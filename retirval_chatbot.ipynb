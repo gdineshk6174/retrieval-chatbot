{
  "nbformat": 4,
  "nbformat_minor": 0,
  "metadata": {
    "colab": {
      "name": "retirval chatbot",
      "provenance": []
    },
    "kernelspec": {
      "name": "python3",
      "display_name": "Python 3"
    },
    "accelerator": "GPU"
  },
  "cells": [
    {
      "cell_type": "code",
      "metadata": {
        "id": "K3DaJoSjvUv-",
        "colab_type": "code",
        "colab": {}
      },
      "source": [
        "import pandas as pd\n",
        "import numpy as np\n",
        "\n",
        "# load vectorizer and similarity measure\n",
        "from sklearn.feature_extraction.text import TfidfVectorizer\n",
        "from sklearn.metrics.pairwise import cosine_similarity\n"
      ],
      "execution_count": 0,
      "outputs": []
    },
    {
      "cell_type": "code",
      "metadata": {
        "id": "l8YIBl-9wP7h",
        "colab_type": "code",
        "colab": {}
      },
      "source": [
        "# read data\n",
        "df = pd.read_csv('aws_faq.csv')\n",
        "df.dropna(inplace = True)\n"
      ],
      "execution_count": 0,
      "outputs": []
    },
    {
      "cell_type": "code",
      "metadata": {
        "id": "5ktnahF8wkYg",
        "colab_type": "code",
        "outputId": "25e1ce00-f6c0-4b55-80ea-bfad62981d99",
        "colab": {
          "base_uri": "https://localhost:8080/",
          "height": 204
        }
      },
      "source": [
        "df.head()"
      ],
      "execution_count": 3,
      "outputs": [
        {
          "output_type": "execute_result",
          "data": {
            "text/html": [
              "<div>\n",
              "<style scoped>\n",
              "    .dataframe tbody tr th:only-of-type {\n",
              "        vertical-align: middle;\n",
              "    }\n",
              "\n",
              "    .dataframe tbody tr th {\n",
              "        vertical-align: top;\n",
              "    }\n",
              "\n",
              "    .dataframe thead th {\n",
              "        text-align: right;\n",
              "    }\n",
              "</style>\n",
              "<table border=\"1\" class=\"dataframe\">\n",
              "  <thead>\n",
              "    <tr style=\"text-align: right;\">\n",
              "      <th></th>\n",
              "      <th>Question</th>\n",
              "      <th>Answer</th>\n",
              "    </tr>\n",
              "  </thead>\n",
              "  <tbody>\n",
              "    <tr>\n",
              "      <th>0</th>\n",
              "      <td>What is Amazon Elastic Compute Cloud (Amazon E...</td>\n",
              "      <td>Amazon Elastic Compute Cloud (Amazon EC2) is a...</td>\n",
              "    </tr>\n",
              "    <tr>\n",
              "      <th>1</th>\n",
              "      <td>What can I do with Amazon EC2?</td>\n",
              "      <td>Just as Amazon Simple Storage Service (Amazon ...</td>\n",
              "    </tr>\n",
              "    <tr>\n",
              "      <th>2</th>\n",
              "      <td>How can I get started with Amazon EC2?</td>\n",
              "      <td>To sign up for Amazon EC2, click the “Sign up ...</td>\n",
              "    </tr>\n",
              "    <tr>\n",
              "      <th>3</th>\n",
              "      <td>Why am I asked to verify my phone number when ...</td>\n",
              "      <td>Amazon EC2 registration requires you to have a...</td>\n",
              "    </tr>\n",
              "    <tr>\n",
              "      <th>4</th>\n",
              "      <td>What can developers now do that they could not...</td>\n",
              "      <td>Until now, small developers did not have the c...</td>\n",
              "    </tr>\n",
              "  </tbody>\n",
              "</table>\n",
              "</div>"
            ],
            "text/plain": [
              "                                            Question                                             Answer\n",
              "0  What is Amazon Elastic Compute Cloud (Amazon E...  Amazon Elastic Compute Cloud (Amazon EC2) is a...\n",
              "1                     What can I do with Amazon EC2?  Just as Amazon Simple Storage Service (Amazon ...\n",
              "2             How can I get started with Amazon EC2?  To sign up for Amazon EC2, click the “Sign up ...\n",
              "3  Why am I asked to verify my phone number when ...  Amazon EC2 registration requires you to have a...\n",
              "4  What can developers now do that they could not...  Until now, small developers did not have the c..."
            ]
          },
          "metadata": {
            "tags": []
          },
          "execution_count": 3
        }
      ]
    },
    {
      "cell_type": "code",
      "metadata": {
        "id": "hr7DgQ_hwowj",
        "colab_type": "code",
        "outputId": "ee367b87-0a6b-4c8f-befc-bc25f8f47a31",
        "colab": {
          "base_uri": "https://localhost:8080/",
          "height": 136
        }
      },
      "source": [
        "# train the vectorizer\n",
        "vectorizer = TfidfVectorizer()\n",
        "vectorizer.fit(np.concatenate((df.Question, df.Answer)))\n"
      ],
      "execution_count": 4,
      "outputs": [
        {
          "output_type": "execute_result",
          "data": {
            "text/plain": [
              "TfidfVectorizer(analyzer='word', binary=False, decode_error='strict',\n",
              "                dtype=<class 'numpy.float64'>, encoding='utf-8',\n",
              "                input='content', lowercase=True, max_df=1.0, max_features=None,\n",
              "                min_df=1, ngram_range=(1, 1), norm='l2', preprocessor=None,\n",
              "                smooth_idf=True, stop_words=None, strip_accents=None,\n",
              "                sublinear_tf=False, token_pattern='(?u)\\\\b\\\\w\\\\w+\\\\b',\n",
              "                tokenizer=None, use_idf=True, vocabulary=None)"
            ]
          },
          "metadata": {
            "tags": []
          },
          "execution_count": 4
        }
      ]
    },
    {
      "cell_type": "code",
      "metadata": {
        "id": "vHdcGbLtxX20",
        "colab_type": "code",
        "colab": {}
      },
      "source": [
        "# vectorize qurstions\n",
        "question_vectors = vectorizer.transform(df.Question)\n"
      ],
      "execution_count": 0,
      "outputs": []
    },
    {
      "cell_type": "code",
      "metadata": {
        "id": "9i-ZP6emx58d",
        "colab_type": "code",
        "outputId": "ffbc325a-8f6d-4fee-ca1f-913e5691a007",
        "colab": {
          "base_uri": "https://localhost:8080/",
          "height": 343
        }
      },
      "source": [
        "# chat with the user\n",
        "print ('you can start chatting with me now')\n",
        "while True:\n",
        "  # reads user question\n",
        "  input_question = input()\n",
        "  # locate the closest question in the database\n",
        "  input_question_vector = vectorizer.transform([input_question])\n",
        "  # compute similarity\n",
        "  similarities = cosine_similarity(input_question_vector, question_vectors)\n",
        "  # find the closet similarity\n",
        "  closest = np.argmax(similarities , axis = 1)\n",
        "  # print the correct answer\n",
        "  print (\"BOT:\" + df.Answer.iloc[closest].values[0] )\n",
        "  if input_question == 'bye':\n",
        "    break\n",
        "print ('chat ended')\n",
        "\n",
        "\n"
      ],
      "execution_count": 7,
      "outputs": [
        {
          "output_type": "stream",
          "text": [
            "you can start chatting with me now\n",
            "hello\n",
            "BOT:Hello\n",
            "what is amazon cloud computing?\n",
            "BOT:Amazon Elastic Compute Cloud (Amazon EC2) is a web service that provides resizable compute capacity in \n",
            "the cloud\n",
            ". It is designed to make web-scale computing easier for developers.\n",
            "what is the price of amazon ec2?\n",
            "BOT:With a single API call, EC2 Fleet lets you provision compute capacity across different instance types, Availability Zones and across On-Demand, Reserved Instances (RI) and Spot Instances purchase models to help optimize scale, performance and cost.\n",
            "how much does it cost\n",
            "BOT:There are no changes to the pricing structure for Amazon CloudSearch at this time. For detailed pricing information, see \n",
            "Amazon CloudSearch Pricing\n",
            ".\n",
            "thank you\n",
            "BOT:I’m fine thanks.\n",
            "bye\n",
            "BOT:Bye, glad to have helped.\n",
            "chat ended\n"
          ],
          "name": "stdout"
        }
      ]
    }
  ]
}